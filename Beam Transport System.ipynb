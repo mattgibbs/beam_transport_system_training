{
 "cells": [
  {
   "cell_type": "code",
   "execution_count": 16,
   "metadata": {},
   "outputs": [],
   "source": [
    "%matplotlib inline\n",
    "import matplotlib.pyplot as plt\n",
    "import numpy as np\n",
    "import ipywidgets as widgets\n",
    "from ipywidgets import interact, interact_manual\n",
    "import scipy.constants as constants"
   ]
  },
  {
   "cell_type": "markdown",
   "metadata": {},
   "source": [
    "# ASO 2 Training: Beam Transport System\n",
    "This notebook is the training guide for the \"Beam Transport System\" of the ASO2 manual."
   ]
  },
  {
   "cell_type": "markdown",
   "metadata": {},
   "source": [
    "## Solenoid Focusing\n",
    "A common technique for radially focusing low energy electron beams is to use a solenoid.  The electron beam enters the solenoid with a radius $r_0$, and comes out with a smaller radius $r_1$, where $r_1 < r_0$.  Lets explore how this works!"
   ]
  },
  {
   "cell_type": "markdown",
   "metadata": {},
   "source": [
    "Lets say our solenoid starts at z = 0 and has length L.  Outside the solenoid, at z < 0 or z > L, there is no field, and particles travel in a straight line.  Inside, the solenoid, 0 < z < L, there's a uniform field $B_z(z) = B_0$ along the z axis.\n",
    "\n",
    "Lets assume we have a beam with zero thermal emittance - that is, all particles come off the cathode with some longitudinal velocity $v_z$, and that $v_x$ and $v_y$ are zero.  This isn't really true, but its not too far off: the beam is being accelerated along the z axis, so $v_z >> v_x$ and $v_z >> v_y$.  Lets also assume that there's no space charge, i.e. the electrons don't repel each other (this isn't true either, but it will make the discussion much simpler.  We can talk about how space charge modifies things later.)"
   ]
  },
  {
   "cell_type": "markdown",
   "metadata": {},
   "source": [
    "Okay, so every particle has $v_z$, and we have a b-field only in the z direction.  $F = -e * v \\times B = 0$, since $v_z$ is parallel with $B_z$.  The particles experience no force at all, nothing happens, and I've wasted your time.\n",
    "\n",
    "But wait!  Very close to the entrance and exit of the solenoid, at z == 0 and z == L, our assumptions aren't right: there are fringe fields with a radial component, that we can approximate as:\n",
    "\n",
    "$B_r(z) = -\\frac{r}{2} * B_0$ for z==0, and\n",
    "\n",
    "$B_r(z) = \\frac{r}{2} * B_0$ for z==L.\n",
    "\n",
    "This radial fringe fields at the entrance and exit kick the beam:\n",
    "\n",
    "$F = -e v \\times B = -e v_z B_r$ .\n",
    "\n",
    "From here you can figure out that as the electrons enter the solenoid they get a velocity in the aziuthal direction:\n",
    "\n",
    "$v_\\theta = r_0 \\frac{e B_0}{2 \\gamma m_e}$\n",
    "\n",
    "(where $r_0$ is the radial coordinate of the electron, i.e. how far from the center of the solenoid it is)\n",
    "\n",
    "That $v_\\theta$ term means that the solenoid's axial field $B_z$ *will* have some effect on the beam!\n",
    "\n",
    "$F = -e v \\times B = F_r = -e v_\\theta B_z$\n",
    "\n",
    "...we get a force in the radial direction, i.e. towards the center of the solenoid!"
   ]
  },
  {
   "cell_type": "markdown",
   "metadata": {},
   "source": [
    "Below is a cool little plot where you can see the positions of four electrons as they travel through the solenoid.  Drag the 'z' slider around to see the electron positions from z=0 (solenoid entrance) to some arbitrary position in the solenoid."
   ]
  },
  {
   "cell_type": "code",
   "execution_count": 40,
   "metadata": {},
   "outputs": [
    {
     "data": {
      "application/vnd.jupyter.widget-view+json": {
       "model_id": "28e8147d435d4d64a1e9af5111f43217",
       "version_major": 2,
       "version_minor": 0
      },
      "text/plain": [
       "interactive(children=(FloatSlider(value=0.0, description='z', max=5.0, step=0.25), Output()), _dom_classes=('w…"
      ]
     },
     "metadata": {},
     "output_type": "display_data"
    }
   ],
   "source": [
    "@interact(z=(0.0, 5.0, 0.25))\n",
    "def plot_particle_in_solenoid(z=0):\n",
    "    r_0 = np.ones(5)\n",
    "    B_0 = .050 # in kG.  This is the axial field strength\n",
    "    theta_0 = np.linspace(0.0, 2*constants.pi, 5)\n",
    "    #print(r_0, theta_0)\n",
    "    gamma = 6/0.511 # Lorentz Factor, (Particle energy)/(Rest Energy)\n",
    "    larmour_freq = constants.elementary_charge*B_0/(2*gamma*constants.electron_mass)\n",
    "    beta = np.sqrt(1 - (1/gamma)**2)\n",
    "    v_z = beta * constants.speed_of_light\n",
    "    r = r_0*np.cos(larmour_freq * z / v_z)\n",
    "    theta = theta_0 + (larmour_freq * z)/v_z\n",
    "    ax = plt.subplot(111, projection='polar')\n",
    "    ax.plot(theta[0], r[0], 'ro')\n",
    "    ax.plot(theta[1], r[1], 'go')\n",
    "    ax.plot(theta[2], r[2], 'bo')\n",
    "    ax.plot(theta[3], r[3], 'co')\n",
    "    ax.set_rmax(1.0)\n",
    "    ax.set_rticks([0.25, 0.5, 0.75, 1.0])\n",
    "    plt.show()"
   ]
  },
  {
   "cell_type": "markdown",
   "metadata": {},
   "source": [
    "You can see from this plot that there's a point where you've focused the beam as much as possible, and then it blows back up again.  If we had an infinitely long solenoid, the beam would periodically focus and defocus.  And remember - this is just from the solenoid field, we're ignoring space charge (which is why there's a spot where you can get all the electrons riiight on top of each other).\n",
    "\n",
    "When you exit the solenoid, the _exit_ fringe field produces a convenient kick that exactly cancels out the azimuthal velocity from the entry fringe field - so they end up with \n",
    "$v_r = v_\\theta = 0$\n",
    "\n"
   ]
  },
  {
   "cell_type": "code",
   "execution_count": null,
   "metadata": {},
   "outputs": [],
   "source": []
  }
 ],
 "metadata": {
  "kernelspec": {
   "display_name": "Python 3",
   "language": "python",
   "name": "python3"
  },
  "language_info": {
   "codemirror_mode": {
    "name": "ipython",
    "version": 3
   },
   "file_extension": ".py",
   "mimetype": "text/x-python",
   "name": "python",
   "nbconvert_exporter": "python",
   "pygments_lexer": "ipython3",
   "version": "3.7.5"
  }
 },
 "nbformat": 4,
 "nbformat_minor": 2
}
